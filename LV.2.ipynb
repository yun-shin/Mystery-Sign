{
 "cells": [
  {
   "cell_type": "code",
   "execution_count": null,
   "id": "ca5ce72f-cf26-40db-b829-a8529a5edf7d",
   "metadata": {},
   "outputs": [],
   "source": [
    "# 두 수를 연결하여 그 수가 윤년인지 "
   ]
  }
 ],
 "metadata": {
  "kernelspec": {
   "display_name": "Python 3 (ipykernel)",
   "language": "python",
   "name": "python3"
  },
  "language_info": {
   "codemirror_mode": {
    "name": "ipython",
    "version": 3
   },
   "file_extension": ".py",
   "mimetype": "text/x-python",
   "name": "python",
   "nbconvert_exporter": "python",
   "pygments_lexer": "ipython3",
   "version": "3.9.7"
  }
 },
 "nbformat": 4,
 "nbformat_minor": 5
}
