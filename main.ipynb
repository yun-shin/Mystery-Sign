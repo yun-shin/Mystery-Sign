{
 "cells": [
  {
   "cell_type": "code",
   "execution_count": 2,
   "id": "7db34b58-54f3-4f6c-8899-c8e596cac367",
   "metadata": {},
   "outputs": [
    {
     "name": "stdout",
     "output_type": "stream",
     "text": [
      "importing Jupyter notebook from BasicOperation.ipynb\n",
      "importing Jupyter notebook from The_Genius.ipynb\n",
      "importing Jupyter notebook from LV2.ipynb\n"
     ]
    }
   ],
   "source": [
    "import sys\n",
    "import subprocess\n",
    "\n",
    "try:\n",
    "    # 없는 모듈 import시 에러 발생\n",
    "    import import_ipynb\n",
    "except:\n",
    "    # pip 모듈 업그레이드\n",
    "    subprocess.check_call([sys.executable,'-m', 'pip', 'install', '--upgrade', 'pip'])\n",
    "    # 에러 발생한 모듈 설치\n",
    "    subprocess.check_call([sys.executable,'-m', 'pip', 'install', '--upgrade', 'import_ipynb'])\n",
    "    \n",
    "import import_ipynb\n",
    "import random as r\n",
    "from BasicOperation import *\n",
    "from The_Genius import *\n",
    "#from LV1 import *\n",
    "from LV2 import *"
   ]
  },
  {
   "cell_type": "code",
   "execution_count": 4,
   "id": "31b198d9-d180-4624-b2e8-25e0b61cd3bb",
   "metadata": {},
   "outputs": [
    {
     "name": "stdout",
     "output_type": "stream",
     "text": [
      "5\n",
      "32  130  = 32\n",
      "60  253  = 60\n",
      "230  241  = 230\n",
      "194  107  = 281\n",
      "48  249  = 48\n",
      "14  199  = 14\n",
      "221  1  = 441\n",
      "228  136  = 320\n",
      "117  52  = 182\n",
      "162  15  = 309\n"
     ]
    }
   ],
   "source": [
    "number = [0, 0]\n",
    "fix = 1\n",
    "show = 10\n",
    "r.seed(fix)\n",
    "problem = r.randint(1, 16)\n",
    "\n",
    "print(problem)\n",
    "for i in range(show) :\n",
    "    number[0] = r.randint(0, 255)\n",
    "    number[1] = r.randint(0, 255)\n",
    "    \n",
    "    if problem == 1 : print('{0}  {1}  = {2}'.format(number[0], number[1], addition(number[0], number[1])))\n",
    "    elif problem == 2 : print('{0}  {1}  = {2}'.format(number[0], number[1], subtraction(number[0], number[1])))\n",
    "    elif problem == 3 : print('{0}  {1}  = {2}'.format(number[0], number[1], multiple(number[0], number[1])))\n",
    "    elif problem == 4 : print('{0}  {1}  = {2}'.format(number[0], number[1], division(number[0], number[1])))\n",
    "    elif problem == 5 : print('{0}  {1}  = {2}'.format(number[0], number[1], genius1(number[0], number[1])))\n",
    "    elif problem == 6 : print('{0}  {1}  = {2}'.format(number[0], number[1], genius2(number[0], number[1])))\n",
    "    elif problem == 7 : print('{0}  {1}  = {2}'.format(number[0], number[1], genius3(number[0], number[1])))\n",
    "    elif problem == 8 : print('{0}  {1}  = {2}'.format(number[0], number[1], genius4(number[0], number[1])))\n",
    "    elif problem == 9 : print('{0}  {1}  = {2}'.format(number[0], number[1], genius5(number[0], number[1])))\n",
    "    elif problem == 10 : print('{0}  {1}  = {2}'.format(number[0], number[1], genius6(number[0], number[1])))\n",
    "    elif problem == 11 : print('{0}  {1}  = {2}'.format(number[0], number[1], genius7(number[0], number[1])))\n",
    "    elif problem == 12 : print('{0}  {1}  = {2}'.format(number[0], number[1], genius8(number[0], number[1])))\n",
    "    elif problem == 13 : print('{0}  {1}  = {2}'.format(number[0], number[1], genius9(number[0], number[1])))\n",
    "    elif problem == 14 : print('{0}  {1}  = {2}'.format(number[0], number[1], genius10(number[0], number[1])))\n",
    "    elif problem == 15 : print('{0}  {1}  = {2}'.format(number[0], number[1], genius11(number[0], number[1])))\n",
    "    elif problem == 16 : print('{0}  {1}  = {2}'.format(number[0], number[1], lv11(number[0], number[1])))"
   ]
  }
 ],
 "metadata": {
  "kernelspec": {
   "display_name": "Python 3.9.7 ('base')",
   "language": "python",
   "name": "python3"
  },
  "language_info": {
   "codemirror_mode": {
    "name": "ipython",
    "version": 3
   },
   "file_extension": ".py",
   "mimetype": "text/x-python",
   "name": "python",
   "nbconvert_exporter": "python",
   "pygments_lexer": "ipython3",
   "version": "3.9.7"
  },
  "vscode": {
   "interpreter": {
    "hash": "55977258ccc82d9e7474731725069f4d85b5b148654dd4e467cc85593f14536c"
   }
  }
 },
 "nbformat": 4,
 "nbformat_minor": 5
}
