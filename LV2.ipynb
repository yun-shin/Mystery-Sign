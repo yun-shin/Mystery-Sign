{
 "cells": [
  {
   "cell_type": "code",
   "execution_count": null,
   "id": "ca5ce72f-cf26-40db-b829-a8529a5edf7d",
   "metadata": {},
   "outputs": [],
   "source": [
    "# 두 수를 연결하여 그 수가 윤년인지 "
   ]
  }
 ],
 "metadata": {
  "kernelspec": {
   "display_name": "Python 3.11.0 64-bit",
   "language": "python",
   "name": "python3"
  },
  "language_info": {
   "codemirror_mode": {
    "name": "ipython",
    "version": 3
   },
   "file_extension": ".py",
   "mimetype": "text/x-python",
   "name": "python",
   "nbconvert_exporter": "python",
   "pygments_lexer": "ipython3",
   "version": "3.11.0"
  },
  "vscode": {
   "interpreter": {
    "hash": "3e4cb287564d4ad851d44e765d4a0ba86e8119f72a15a94151d25ef2ef93c637"
   }
  }
 },
 "nbformat": 4,
 "nbformat_minor": 5
}
