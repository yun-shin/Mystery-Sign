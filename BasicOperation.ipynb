{
 "cells": [
  {
   "cell_type": "code",
   "execution_count": null,
   "id": "73b703a9-20cb-4347-805f-6e5fb5cb3cac",
   "metadata": {},
   "outputs": [],
   "source": [
    "# 그냥 덧셈\n",
    "\n",
    "def addition (num1, num2) :\n",
    "    return num1 + num2"
   ]
  },
  {
   "cell_type": "code",
   "execution_count": null,
   "id": "f80cf70c-57a6-479e-a482-93c75558fccc",
   "metadata": {},
   "outputs": [],
   "source": [
    "# 그냥 뺄셈\n",
    "\n",
    "def subtraction(num1, num2) :\n",
    "    return num1 - num2"
   ]
  },
  {
   "cell_type": "code",
   "execution_count": null,
   "id": "b002b252-52b0-46e6-abe9-c0737cf73417",
   "metadata": {},
   "outputs": [],
   "source": [
    "# 그냥 곱셈\n",
    "\n",
    "def multiple(num1, num2) :\n",
    "    return num1 * num2"
   ]
  },
  {
   "cell_type": "code",
   "execution_count": null,
   "id": "2eb11ad2-f023-4843-a2e5-77a36b5389cc",
   "metadata": {},
   "outputs": [],
   "source": [
    "# 그냥 나눗셈\n",
    "\n",
    "def division(num1, num2) :\n",
    "    return num1 / num2"
   ]
  }
 ],
 "metadata": {
  "kernelspec": {
   "display_name": "Python 3 (ipykernel)",
   "language": "python",
   "name": "python3"
  },
  "language_info": {
   "codemirror_mode": {
    "name": "ipython",
    "version": 3
   },
   "file_extension": ".py",
   "mimetype": "text/x-python",
   "name": "python",
   "nbconvert_exporter": "python",
   "pygments_lexer": "ipython3",
   "version": "3.9.7"
  }
 },
 "nbformat": 4,
 "nbformat_minor": 5
}
