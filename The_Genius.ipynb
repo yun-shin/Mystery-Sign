{
 "cells": [
  {
   "cell_type": "code",
   "execution_count": 82,
   "id": "4c1f187f-fb04-48ef-ac8f-9a6c3959ade6",
   "metadata": {},
   "outputs": [],
   "source": [
    "# 큰수 + 두 수의 차\n",
    "\n",
    "def genius1(num1, num2) :\n",
    "    result = max(num1, num2) + (num1 - num2)\n",
    "    return result"
   ]
  },
  {
   "cell_type": "code",
   "execution_count": 83,
   "id": "4d8e0f6c-12c2-40b3-9772-f9ce0fdcf442",
   "metadata": {},
   "outputs": [],
   "source": [
    "# (두 수의 합)(두 수의 차)\n",
    "\n",
    "def genius2(num1, num2) :\n",
    "    result = str(num1 + num2) + str(abs(num1 - num2))\n",
    "    return int(result)"
   ]
  },
  {
   "cell_type": "code",
   "execution_count": 84,
   "id": "02639f49-cd0d-4c23-b057-4e048e217544",
   "metadata": {},
   "outputs": [],
   "source": [
    "# (큰 수) ÷ (작은 수)의 나머지\n",
    "\n",
    "def genius3(num1, num2) :\n",
    "    result = max(num1, num2) % min(num1, num2)\n",
    "    return result"
   ]
  },
  {
   "cell_type": "code",
   "execution_count": 85,
   "id": "ce102ab6-ffcf-465b-8883-ee0136e4069f",
   "metadata": {},
   "outputs": [],
   "source": [
    "# (앞의 수의 각 자리 숫자의 합) × (뒤의 수의 각 자리 숫자의 합)\n",
    "\n",
    "def genius4(num1, num2) :\n",
    "    N = [int(i) for i in str(num1)]\n",
    "    M = [int(i) for i in str(num2)]\n",
    "    \n",
    "    result = sum(N) * sum(M)\n",
    "    return result"
   ]
  },
  {
   "cell_type": "code",
   "execution_count": 86,
   "id": "5072fcf6-1af8-4fba-8926-dcb2b2e3688b",
   "metadata": {},
   "outputs": [],
   "source": [
    "# (두 숫자를 붙여 쓴 상태에서 첫 번째로 나온 숫자와 그 숫자의 개수,두 번째 나온 숫자와 그 숫자의 개수, ...)\n",
    "\n",
    "def genius5(num1, num2) :\n",
    "    return num1\n",
    "    "
   ]
  },
  {
   "cell_type": "code",
   "execution_count": 87,
   "id": "71c75427-8293-4ab6-aaee-b281dff3d03f",
   "metadata": {},
   "outputs": [],
   "source": [
    "# (모든 자리 숫자의 합)\n",
    "\n",
    "def genius6(num1, num2) :\n",
    "    N = [int(i) for i in str(num1)]\n",
    "    M = [int(i) for i in str(num2)]\n",
    "    \n",
    "    result = sum(N) + sum(M)\n",
    "    return result"
   ]
  },
  {
   "cell_type": "code",
   "execution_count": 88,
   "id": "0e15ddfb-68cc-4ef8-ada8-2719115a394a",
   "metadata": {},
   "outputs": [],
   "source": [
    "# {(두 수의 합) ÷ 12}의 나머지(시계 문제)\n",
    "\n",
    "def genius7(num1, num2) :\n",
    "    result = (num1 + num2) % 12\n",
    "    return result"
   ]
  },
  {
   "cell_type": "code",
   "execution_count": 89,
   "id": "da4faf9c-9acc-449d-9323-6da96e7a2f0c",
   "metadata": {},
   "outputs": [],
   "source": [
    "# (두 수에 포함된 동그라미 개수)\n",
    "\n",
    "def genius8(num1, num2) :\n",
    "    cnt = 0\n",
    "\n",
    "    for i in str(num1) + str(num2) :\n",
    "        if i == '0' :\n",
    "            cnt += 1\n",
    "        elif i == '6' :\n",
    "            cnt += 1\n",
    "        elif i == '8' :\n",
    "            cnt = cnt + 2\n",
    "        elif i == '9' :\n",
    "            cnt += 1\n",
    "            \n",
    "    return cnt"
   ]
  },
  {
   "cell_type": "code",
   "execution_count": 90,
   "id": "78c9ffad-46cc-4474-ba01-ddcdfcaf7750",
   "metadata": {},
   "outputs": [],
   "source": [
    "# (두 수의 합) × (뒤의 수)\n",
    "\n",
    "def genius9(num1, num2) :\n",
    "    result = (num1 + num2) * num2\n",
    "    return result"
   ]
  },
  {
   "cell_type": "code",
   "execution_count": 95,
   "id": "3b19b43f-27af-40ec-be04-e10b8d6fcca3",
   "metadata": {},
   "outputs": [],
   "source": [
    "# (두 수의 최대공약수)\n",
    "import math\n",
    "\n",
    "def genius10(num1, num2) :\n",
    "    return math.gcd(num1, num2)"
   ]
  },
  {
   "cell_type": "code",
   "execution_count": 130,
   "id": "33ddb742-cd63-4022-8fc9-832dcdc4da8d",
   "metadata": {},
   "outputs": [],
   "source": [
    "# (두 수의 사이에 있는 소수의 개수)\n",
    "\n",
    "def genius11(num1, num2) :\n",
    "    cnt = 0\n",
    "\n",
    "    for i in range(min(num1, num2), max(num1, num2) + 1):\n",
    "        prime = True\n",
    "        \n",
    "        if i == 1 or i == 2 :\n",
    "            continue\n",
    "        \n",
    "        for j in range(2, i) :\n",
    "            if i % j == 0 :\n",
    "                prime = False\n",
    "                \n",
    "        if prime == True :\n",
    "            cnt += 1\n",
    "            print(i)\n",
    "            \n",
    "    return cnt"
   ]
  }
 ],
 "metadata": {
  "kernelspec": {
   "display_name": "Python 3 (ipykernel)",
   "language": "python",
   "name": "python3"
  },
  "language_info": {
   "codemirror_mode": {
    "name": "ipython",
    "version": 3
   },
   "file_extension": ".py",
   "mimetype": "text/x-python",
   "name": "python",
   "nbconvert_exporter": "python",
   "pygments_lexer": "ipython3",
   "version": "3.9.7"
  }
 },
 "nbformat": 4,
 "nbformat_minor": 5
}
