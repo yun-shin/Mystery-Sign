{
 "cells": [
  {
   "cell_type": "code",
   "execution_count": 5,
   "id": "b0b6c5d9",
   "metadata": {},
   "outputs": [
    {
     "name": "stdout",
     "output_type": "stream",
     "text": [
      "importing Jupyter notebook from BasicOperation.ipynb\n"
     ]
    }
   ],
   "source": [
    "import sys\n",
    "import subprocess\n",
    "\n",
    "try:\n",
    "    # 없는 모듈 import시 에러 발생\n",
    "    import import_ipynb\n",
    "except:\n",
    "    # pip 모듈 업그레이드\n",
    "    subprocess.check_call([sys.executable,'-m', 'pip', 'install', '--upgrade', 'pip'])\n",
    "    # 에러 발생한 모듈 설치\n",
    "    subprocess.check_call([sys.executable,'-m', 'pip', 'install', '--upgrade', 'import_ipynb'])\n",
    "    \n",
    "import import_ipynb\n",
    "import random as r\n",
    "from BasicOperation import *"
   ]
  },
  {
   "cell_type": "code",
   "execution_count": 2,
   "id": "58b266ac-92f2-4594-bcc6-e465077dd364",
   "metadata": {},
   "outputs": [],
   "source": [
    "# 두 수의 합의 팩토리얼\n",
    "\n",
    "def factorial(n) :\n",
    "    if (n > 1) :\n",
    "        return n * factorial(n - 1)\n",
    "    else :\n",
    "        return 1\n",
    "\n",
    "def factorial_result (num1, num2) :\n",
    "    return factorial(num1 + num2)"
   ]
  },
  {
   "cell_type": "code",
   "execution_count": 28,
   "id": "03ed37e5",
   "metadata": {},
   "outputs": [],
   "source": [
    "# n1 부터 n2까지의 합.\n",
    "\n",
    "def sigma(n1, n2) :\n",
    "    add_val = 0\n",
    "    num1 = min(n1, n2)\n",
    "    num2 = max(n1, n2)\n",
    "\n",
    "    if num1 == 0 and num2 == 0  :\n",
    "        return 0\n",
    "    else :\n",
    "        for i in range(num1, num2 + 1) :\n",
    "            add_val += i\n",
    "\n",
    "    return add_val"
   ]
  },
  {
   "cell_type": "code",
   "execution_count": 31,
   "id": "82c79da9",
   "metadata": {},
   "outputs": [],
   "source": [
    "# 둘 중 하나라도 음수일 경우 0, 양수면 중간값(정수) 출력.\n",
    "\n",
    "def middle_num(n1, n2) :\n",
    "    if min(n1, n2) <= 0 :\n",
    "        return 0\n",
    "\n",
    "    return (n1 + n2) // 2\n",
    "    "
   ]
  },
  {
   "cell_type": "code",
   "execution_count": 33,
   "id": "eecbea5f-3c50-44d3-b70d-9c4c2a163dc5",
   "metadata": {},
   "outputs": [
    {
     "name": "stdout",
     "output_type": "stream",
     "text": [
      "15\n"
     ]
    }
   ],
   "source": [
    "a = middle_num(10, 20)\n",
    "print(a)"
   ]
  }
 ],
 "metadata": {
  "kernelspec": {
   "display_name": "Python 3.11.0 64-bit",
   "language": "python",
   "name": "python3"
  },
  "language_info": {
   "codemirror_mode": {
    "name": "ipython",
    "version": 3
   },
   "file_extension": ".py",
   "mimetype": "text/x-python",
   "name": "python",
   "nbconvert_exporter": "python",
   "pygments_lexer": "ipython3",
   "version": "3.11.0"
  },
  "vscode": {
   "interpreter": {
    "hash": "3e4cb287564d4ad851d44e765d4a0ba86e8119f72a15a94151d25ef2ef93c637"
   }
  }
 },
 "nbformat": 4,
 "nbformat_minor": 5
}
