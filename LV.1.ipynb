{
 "cells": [
  {
   "cell_type": "code",
   "execution_count": 1,
   "id": "58b266ac-92f2-4594-bcc6-e465077dd364",
   "metadata": {},
   "outputs": [],
   "source": [
    "# 두 수의 합의 팩토리얼\n",
    "\n",
    "def factorial(n) :\n",
    "    if (n > 1) :\n",
    "        return n * factorial(n - 1)\n",
    "    else :\n",
    "        return 1\n",
    "\n",
    "def lv1 (num1, num2) :\n",
    "    return factorial(num1 + num2)"
   ]
  },
  {
   "cell_type": "code",
   "execution_count": 2,
   "id": "eecbea5f-3c50-44d3-b70d-9c4c2a163dc5",
   "metadata": {},
   "outputs": [
    {
     "data": {
      "text/plain": [
       "720"
      ]
     },
     "execution_count": 2,
     "metadata": {},
     "output_type": "execute_result"
    }
   ],
   "source": [
    "lv1(2, 4)"
   ]
  }
 ],
 "metadata": {
  "kernelspec": {
   "display_name": "Python 3 (ipykernel)",
   "language": "python",
   "name": "python3"
  },
  "language_info": {
   "codemirror_mode": {
    "name": "ipython",
    "version": 3
   },
   "file_extension": ".py",
   "mimetype": "text/x-python",
   "name": "python",
   "nbconvert_exporter": "python",
   "pygments_lexer": "ipython3",
   "version": "3.9.7"
  }
 },
 "nbformat": 4,
 "nbformat_minor": 5
}
